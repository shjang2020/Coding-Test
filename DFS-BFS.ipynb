{
 "cells": [
  {
   "cell_type": "markdown",
   "id": "d72849a2",
   "metadata": {},
   "source": [
    "### DFS/BFS"
   ]
  },
  {
   "cell_type": "markdown",
   "id": "be7bd5fd",
   "metadata": {},
   "source": [
    "🧩 문제 설명\n",
    "0은 바다, 1은 땅으로 구성된 2차원 지도(n x m)가 주어질 때, 서로 연결된 땅(1)을 하나의 섬이라 할 때, 섬의 개수를 구하시오.\n",
    "\n",
    "상하좌우 4방향으로 인접한 땅은 연결되어 있음\n",
    "\n",
    "방문한 땅은 다시 방문하지 않음"
   ]
  },
  {
   "cell_type": "code",
   "execution_count": 5,
   "id": "e72ae1b2",
   "metadata": {},
   "outputs": [],
   "source": [
    "grid = [\n",
    "  [1,1,0,0,0],\n",
    "  [1,1,0,0,0],\n",
    "  [0,0,1,0,0],\n",
    "  [0,0,0,1,1]\n",
    "]"
   ]
  },
  {
   "cell_type": "markdown",
   "id": "23b2183e",
   "metadata": {},
   "source": [
    "DFS"
   ]
  },
  {
   "cell_type": "code",
   "execution_count": null,
   "id": "da53d641",
   "metadata": {},
   "outputs": [
    {
     "data": {
      "text/plain": [
       "3"
      ]
     },
     "execution_count": 3,
     "metadata": {},
     "output_type": "execute_result"
    }
   ],
   "source": [
    "def num_islands(grid):\n",
    "    if not grid:\n",
    "        return 0\n",
    "\n",
    "    n, m = len(grid), len(grid[0])\n",
    "    count = 0\n",
    "\n",
    "    def dfs(x, y):\n",
    "        # 범위 밖이면 종료\n",
    "        if x < 0 or x >= n or y < 0 or y >= m:\n",
    "            return\n",
    "        # 바다거나 이미 방문한 땅이면 종료\n",
    "        if grid[x][y] == 0:\n",
    "            return\n",
    "        # 방문 표시\n",
    "        grid[x][y] = 0\n",
    "        # 상하좌우 탐색\n",
    "        dfs(x+1, y)\n",
    "        dfs(x-1, y)\n",
    "        dfs(x, y+1)\n",
    "        dfs(x, y-1)\n",
    "\n",
    "    for i in range(n):\n",
    "        for j in range(m):\n",
    "            if grid[i][j] == 1:\n",
    "                dfs(i, j)     # 새로운 섬 탐색 시작\n",
    "                count += 1    # 섬 개수 증가\n",
    "\n",
    "    return count\n",
    "\n",
    "num_islands(grid)\n"
   ]
  },
  {
   "cell_type": "markdown",
   "id": "0713e7d8",
   "metadata": {},
   "source": [
    "BFS"
   ]
  },
  {
   "cell_type": "code",
   "execution_count": 6,
   "id": "2bc21913",
   "metadata": {},
   "outputs": [
    {
     "data": {
      "text/plain": [
       "3"
      ]
     },
     "execution_count": 6,
     "metadata": {},
     "output_type": "execute_result"
    }
   ],
   "source": [
    "from collections import deque\n",
    "\n",
    "def num_islands_bfs(grid):\n",
    "    if not grid:\n",
    "        return 0\n",
    "\n",
    "    n, m = len(grid), len(grid[0])\n",
    "    count = 0\n",
    "\n",
    "    def bfs(x, y):\n",
    "        queue = deque()\n",
    "        queue.append((x, y))\n",
    "        grid[x][y] = 0  # 방문 표시\n",
    "\n",
    "        while queue:\n",
    "            cx, cy = queue.popleft()\n",
    "            # 상하좌우 탐색\n",
    "            for dx, dy in [(-1,0), (1,0), (0,-1), (0,1)]:\n",
    "                nx, ny = cx + dx, cy + dy\n",
    "                # 범위 안이고 땅(1)일 경우\n",
    "                if 0 <= nx < n and 0 <= ny < m and grid[nx][ny] == 1:\n",
    "                    grid[nx][ny] = 0  # 방문 처리\n",
    "                    queue.append((nx, ny))\n",
    "\n",
    "    for i in range(n):\n",
    "        for j in range(m):\n",
    "            if grid[i][j] == 1:\n",
    "                bfs(i, j)\n",
    "                count += 1\n",
    "\n",
    "    return count\n",
    "\n",
    "num_islands_bfs(grid)"
   ]
  }
 ],
 "metadata": {
  "kernelspec": {
   "display_name": "lightfm-env",
   "language": "python",
   "name": "python3"
  },
  "language_info": {
   "codemirror_mode": {
    "name": "ipython",
    "version": 3
   },
   "file_extension": ".py",
   "mimetype": "text/x-python",
   "name": "python",
   "nbconvert_exporter": "python",
   "pygments_lexer": "ipython3",
   "version": "3.9.21"
  }
 },
 "nbformat": 4,
 "nbformat_minor": 5
}
