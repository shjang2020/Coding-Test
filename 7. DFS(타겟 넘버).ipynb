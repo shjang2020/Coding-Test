{
 "cells": [
  {
   "cell_type": "markdown",
   "id": "4ad36f5b",
   "metadata": {},
   "source": [
    "내 풀이"
   ]
  },
  {
   "cell_type": "markdown",
   "id": "3cae6f08",
   "metadata": {},
   "source": [
    "최적의 풀이"
   ]
  },
  {
   "cell_type": "code",
   "execution_count": null,
   "id": "6a45b09f",
   "metadata": {},
   "outputs": [],
   "source": []
  }
 ],
 "metadata": {
  "kernelspec": {
   "display_name": "lightfm-env",
   "language": "python",
   "name": "python3"
  },
  "language_info": {
   "codemirror_mode": {
    "name": "ipython",
    "version": 3
   },
   "file_extension": ".py",
   "mimetype": "text/x-python",
   "name": "python",
   "nbconvert_exporter": "python",
   "pygments_lexer": "ipython3",
   "version": "3.9.21"
  }
 },
 "nbformat": 4,
 "nbformat_minor": 5
}
