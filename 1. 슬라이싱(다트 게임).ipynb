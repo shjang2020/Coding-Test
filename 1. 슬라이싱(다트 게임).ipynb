{
 "cells": [
  {
   "cell_type": "markdown",
   "id": "fc97aa35",
   "metadata": {},
   "source": [
    "나의 풀이"
   ]
  },
  {
   "cell_type": "code",
   "execution_count": null,
   "id": "21e59e0b",
   "metadata": {},
   "outputs": [],
   "source": [
    "def solution(dartResult):\n",
    "    num = ['0','1','2','3','4','5','6','7','8','9']\n",
    "    lst = []\n",
    "    \n",
    "    for i in dartResult:\n",
    "        # 숫자\n",
    "        if i == '0':\n",
    "            if len(lst) > 0 and lst[-1] == '1':\n",
    "                lst[-1] = '10'\n",
    "            else:\n",
    "                lst.append(i)\n",
    "        elif i in num:\n",
    "            lst.append(i)\n",
    "        \n",
    "        # 보너스\n",
    "        elif i =='S':\n",
    "            lst[-1] = int(lst[-1])**1\n",
    "        elif i =='D':\n",
    "            lst[-1] = int(lst[-1])**2\n",
    "        elif i =='T':\n",
    "            lst[-1] = int(lst[-1])**3\n",
    "        \n",
    "        # 옵션\n",
    "        elif i =='*':\n",
    "            lst[-1] *=2\n",
    "            if len(lst) >= 2:\n",
    "                lst[-2] *=2\n",
    "        elif i == '#':    \n",
    "            lst[-1] *= -1        \n",
    "            \n",
    "    return sum(lst)"
   ]
  },
  {
   "cell_type": "markdown",
   "id": "90ef40fe",
   "metadata": {},
   "source": [
    "GPT 풀이"
   ]
  },
  {
   "cell_type": "code",
   "execution_count": null,
   "id": "90837b89",
   "metadata": {},
   "outputs": [],
   "source": [
    "import re\n",
    "\n",
    "def solution(dartResult):\n",
    "    # 정규표현식으로 세 개의 점수 구간 추출\n",
    "    darts = re.findall(r'\\d{1,2}[SDT][*#]?', dartResult)\n",
    "\n",
    "    result = []\n",
    "\n",
    "    for i, dart in enumerate(darts):\n",
    "        # 숫자, 보너스, 옵션 분리\n",
    "        score = int(re.match(r'\\d{1,2}', dart).group())  # 점수 숫자\n",
    "        bonus = re.search(r'[SDT]', dart).group()        # S/D/T\n",
    "        option = re.search(r'[*#]', dart)                # 옵션(*, #) 있을 수도 있음\n",
    "\n",
    "        # 보너스 계산\n",
    "        if bonus == 'S':\n",
    "            score = score ** 1\n",
    "        elif bonus == 'D':\n",
    "            score = score ** 2\n",
    "        elif bonus == 'T':\n",
    "            score = score ** 3\n",
    "\n",
    "        # 옵션 계산\n",
    "        if option:\n",
    "            if option.group() == '*':\n",
    "                score *= 2\n",
    "                if i > 0:\n",
    "                    result[i-1] *= 2  # 이전 점수도 2배\n",
    "            elif option.group() == '#':\n",
    "                score *= -1\n",
    "\n",
    "        result.append(score)\n",
    "\n",
    "    return sum(result)"
   ]
  },
  {
   "cell_type": "markdown",
   "id": "ae2c22cf",
   "metadata": {},
   "source": [
    "최적화 코드"
   ]
  },
  {
   "cell_type": "code",
   "execution_count": null,
   "id": "713144ee",
   "metadata": {},
   "outputs": [],
   "source": [
    "import re\n",
    "\n",
    "\n",
    "def solution(dartResult):\n",
    "    bonus = {'S' : 1, 'D' : 2, 'T' : 3}\n",
    "    option = {'' : 1, '*' : 2, '#' : -1}\n",
    "    p = re.compile('(\\d+)([SDT])([*#]?)')\n",
    "    dart = p.findall(dartResult)\n",
    "    for i in range(len(dart)):\n",
    "        if dart[i][2] == '*' and i > 0:\n",
    "            dart[i-1] *= 2\n",
    "        dart[i] = int(dart[i][0]) ** bonus[dart[i][1]] * option[dart[i][2]]\n",
    "\n",
    "    answer = sum(dart)\n",
    "    return answer"
   ]
  }
 ],
 "metadata": {
  "kernelspec": {
   "display_name": "lightfm-env",
   "language": "python",
   "name": "python3"
  },
  "language_info": {
   "name": "python",
   "version": "3.9.21"
  }
 },
 "nbformat": 4,
 "nbformat_minor": 5
}
