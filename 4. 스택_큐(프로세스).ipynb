{
 "cells": [
  {
   "cell_type": "markdown",
   "id": "dd271339",
   "metadata": {},
   "source": [
    "나의 풀이"
   ]
  },
  {
   "cell_type": "code",
   "execution_count": null,
   "id": "39955a7b",
   "metadata": {},
   "outputs": [],
   "source": [
    "from collections import deque\n",
    "def solution(priorities, location):\n",
    "    lst = deque(priorities)\n",
    "    cnt=0\n",
    "    m = max(lst)\n",
    "    while location >=0 :\n",
    "        l = lst.popleft()\n",
    "        if m == l:\n",
    "            cnt +=1\n",
    "            if location ==0:\n",
    "                return cnt\n",
    "            else:\n",
    "                m = max(lst)\n",
    "        else:\n",
    "            lst.append(l)\n",
    "            if location == 0:\n",
    "                location += len(lst)\n",
    "        location -=1\n",
    "    return cnt"
   ]
  },
  {
   "cell_type": "markdown",
   "id": "dad701a5",
   "metadata": {},
   "source": [
    "최적의 풀이"
   ]
  },
  {
   "cell_type": "code",
   "execution_count": null,
   "id": "33895a85",
   "metadata": {},
   "outputs": [],
   "source": [
    "from collections import deque\n",
    "def solution(priorities, location):\n",
    "    que =  deque([(i,p) for i,p in enumerate(priorities)])\n",
    "    cnt = 0\n",
    "    while True:\n",
    "        cur = que.popleft()\n",
    "        if any(cur[1] < q[1] for q in que):\n",
    "            que.append(cur)\n",
    "        else:\n",
    "            cnt += 1\n",
    "            if cur[0] == location:\n",
    "                return cnt"
   ]
  }
 ],
 "metadata": {
  "language_info": {
   "name": "python"
  }
 },
 "nbformat": 4,
 "nbformat_minor": 5
}
