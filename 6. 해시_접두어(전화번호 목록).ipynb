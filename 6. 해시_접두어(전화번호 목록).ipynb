{
 "cells": [
  {
   "cell_type": "markdown",
   "id": "e23b8012",
   "metadata": {},
   "source": [
    "내 코드 - 효율성 없음"
   ]
  },
  {
   "cell_type": "code",
   "execution_count": null,
   "id": "5a9b6611",
   "metadata": {},
   "outputs": [],
   "source": [
    "def solution(phone_book):\n",
    "    lst = sorted(phone_book, key=len)\n",
    "    for n,i in enumerate(lst):\n",
    "        for k in lst[n+1:]:\n",
    "            if i == k[:len(i)]:\n",
    "                return False\n",
    "    return True"
   ]
  },
  {
   "cell_type": "markdown",
   "id": "858955ea",
   "metadata": {},
   "source": [
    "최적의 풀이"
   ]
  },
  {
   "cell_type": "code",
   "execution_count": null,
   "id": "f236503d",
   "metadata": {},
   "outputs": [],
   "source": [
    "# sort(), startswith()\n",
    "def solution(phone_book):\n",
    "    phone_book.sort()\n",
    "    for i in range(len(phone_book) - 1):\n",
    "        if phone_book[i+1].startswith(phone_book[i]):\n",
    "            return False\n",
    "    return True"
   ]
  },
  {
   "cell_type": "markdown",
   "id": "cb6ef38e",
   "metadata": {},
   "source": [
    "해시"
   ]
  },
  {
   "cell_type": "code",
   "execution_count": null,
   "id": "856935c3",
   "metadata": {},
   "outputs": [],
   "source": [
    "def solution(phone_book):\n",
    "    phone_set = set(phone_book)\n",
    "    \n",
    "    for number in phone_book:\n",
    "        # 접두어를 하나씩 잘라서 존재 여부 확인\n",
    "        for i in range(1, len(number)):\n",
    "            if number[:i] in phone_set:\n",
    "                return False\n",
    "    return True"
   ]
  }
 ],
 "metadata": {
  "kernelspec": {
   "display_name": "lightfm-env",
   "language": "python",
   "name": "python3"
  },
  "language_info": {
   "codemirror_mode": {
    "name": "ipython",
    "version": 3
   },
   "file_extension": ".py",
   "mimetype": "text/x-python",
   "name": "python",
   "nbconvert_exporter": "python",
   "pygments_lexer": "ipython3",
   "version": "3.9.21"
  }
 },
 "nbformat": 4,
 "nbformat_minor": 5
}
