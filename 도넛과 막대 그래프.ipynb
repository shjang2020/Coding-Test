{
 "cells": [
  {
   "cell_type": "code",
   "execution_count": null,
   "metadata": {},
   "outputs": [],
   "source": [
    "def solution(edges):  \n",
    "    def count_edges(edges):\n",
    "        edge_counts = {}\n",
    "        for a, b in edges:\n",
    "            # 각 노드별로 간선의 수를 추가할 딕셔너리를 생성 - .get() 함수를 이용해 딕셔너리의 키 값 추가\n",
    "            if not edge_counts.get(a):\n",
    "                edge_counts[a] = [0, 0]\n",
    "            if not edge_counts.get(b):\n",
    "                edge_counts[b] = [0, 0]\n",
    "\n",
    "            # output edge와 input edge의 개수를 추가\n",
    "            edge_counts[a][0] += 1  # a는 n번 노드에서 나가는 간선\n",
    "            edge_counts[b][1] += 1  # b는 n번 노드로 들어오는 간선\n",
    "        return edge_counts\n",
    "\n",
    "    def check_answer(egde_counts):\n",
    "        answer = [0, 0, 0, 0]\n",
    "        for key, counts in edge_counts.items():\n",
    "            # 생성된 정점의 번호 확인\n",
    "            if counts[0] >= 2 and counts[1] == 0:\n",
    "                answer[0] = key\n",
    "            # 막대 모양 그래프의 수 확인\n",
    "            elif counts[0] == 0 and counts[1] > 0:\n",
    "                answer[2] += 1\n",
    "            # 8자 모양 그래프의 수 확인\n",
    "            elif counts[0] >= 2 and counts[1] >= 2:\n",
    "                answer[3] += 1\n",
    "        # 도넛 모양 그래프의 수 확인\n",
    "        answer[1] = (edge_counts[answer[0]][0] - answer[2] - answer[3])\n",
    "\n",
    "        return answer\n",
    "\n",
    "    edge_counts = count_edges(edges)\n",
    "    answer = check_answer(edge_counts)\n",
    "\n",
    "    return answer"
   ]
  }
 ],
 "metadata": {
  "kernelspec": {
   "display_name": "base",
   "language": "python",
   "name": "python3"
  },
  "language_info": {
   "name": "python",
   "version": "3.12.3"
  }
 },
 "nbformat": 4,
 "nbformat_minor": 2
}
