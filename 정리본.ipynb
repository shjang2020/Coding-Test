{
 "cells": [
  {
   "cell_type": "markdown",
   "id": "e37e1863",
   "metadata": {},
   "source": [
    "#### 정규표현식"
   ]
  },
  {
   "cell_type": "code",
   "execution_count": null,
   "id": "b2e4bde3",
   "metadata": {},
   "outputs": [
    {
     "data": {
      "text/plain": [
       "['test.user_01@example.com', 'hello@naver.co.kr']"
      ]
     },
     "execution_count": 1,
     "metadata": {},
     "output_type": "execute_result"
    }
   ],
   "source": [
    "import re\n",
    "\n",
    "re.findall(r'\\d+', 'foo9.txt234')[0] # 9 출력 - 숫자\n",
    "re.findall(r'[^\\d]+', 'foo9.txt234')[0] # foo 출력 - 숫자가 아닌 모든 문자\n",
    "\n",
    "re.findall(r'(\\d+)([SDT])([*#]?)', '1D2S#10S')\n",
    "# [('1', 'D', ''), ('2', 'S', '#'), ('10', 'S', '')]\n",
    "\n",
    "re.findall(r'[가-힣]+|[a-zA-Z]+|\\d+', \"Hello안녕123abc\") \n",
    "# ['Hello', '안녕', '123', 'abc']\n",
    "\n",
    "text = \"이메일: test.user_01@example.com / hello@naver.co.kr\"\n",
    "re.findall(r'[\\w\\.-]+@[\\w\\.-]+\\.\\w+', text)\n",
    "# ['test.user_01@example.com', 'hello@naver.co.kr']"
   ]
  },
  {
   "cell_type": "markdown",
   "id": "b65a127d",
   "metadata": {},
   "source": [
    "#### Collections"
   ]
  },
  {
   "cell_type": "markdown",
   "id": "e484ec8b",
   "metadata": {},
   "source": [
    "Counter"
   ]
  },
  {
   "cell_type": "code",
   "execution_count": null,
   "id": "112aa78f",
   "metadata": {},
   "outputs": [
    {
     "data": {
      "text/plain": [
       "Counter({'aa': 4, 'ab': 4, 'bb': 3})"
      ]
     },
     "execution_count": 49,
     "metadata": {},
     "output_type": "execute_result"
    }
   ],
   "source": [
    "from collections import Counter\n",
    "\n",
    "c1 = Counter(['aa','aa','ab','bb','ab','aa']) # {'aa': 3, 'ab': 2, 'bb': 1}\n",
    "c2 = Counter(['aa','ab','bb','bb','ab']) # {'ab': 2, 'bb': 2, 'aa': 1}\n",
    "c1['aa'] # 딕셔너리처럼 접근 - 3 출력\n",
    "\n",
    "c1 & c2 # 교집합 - {'ab': 2, 'aa': 1, 'bb': 1}\n",
    "c1 | c2 # 합집합 - {'aa': 3, 'ab': 2, 'bb': 2}\n",
    "\n",
    "c1.update(['aa','ab']) # 요소 추가 - {'aa': 4, 'ab': 3, 'bb': 1})\n",
    "c1.subtract(['aa','ab']) # 요소 감소 - {'aa': 3, 'ab': 2, 'bb': 1}\n",
    "\n",
    "c1.most_common(2) # 가장 흔한 요소 2개 추출 - [('aa', 3), ('ab', 2)]_내림차순\n",
    "c1.values() # 문자 갯수 - dict_values([3, 2, 1]) _ 총합 : sum(c1.values())\n",
    "list(c1.elements()) # 요소 리스트 복원 - ['aa', 'aa', 'aa', 'ab', 'ab', 'bb']\n",
    "\n",
    "c1 + c2 # Counter 합치기, 빼기 가능 - Counter({'aa': 4, 'ab': 4, 'bb': 3})"
   ]
  },
  {
   "cell_type": "markdown",
   "id": "e5cb7668",
   "metadata": {},
   "source": [
    "deque"
   ]
  },
  {
   "cell_type": "code",
   "execution_count": null,
   "id": "a1edcdb2",
   "metadata": {},
   "outputs": [],
   "source": [
    "from collections import deque\n",
    "que = deque(lst)\n",
    "deque(lst, maxlen=3) # lst가 3보다 길경우 뒤에서 3개 남김, append되면 맨앞에 자름\n",
    "\n",
    "que.pop(); que.popleft()\n",
    "que.append(); que.appendleft()\n",
    "\n",
    "que.rotate(1) # 양수면 맨뒤에가 맨앞으로, 음수면 맨앞이 맨뒤로\n",
    "que.index(x) # x가 몇번째 위치에 있는지 반환"
   ]
  },
  {
   "cell_type": "markdown",
   "id": "d599905d",
   "metadata": {},
   "source": [
    "#### 이외"
   ]
  },
  {
   "cell_type": "markdown",
   "id": "963118e5",
   "metadata": {},
   "source": [
    "any"
   ]
  },
  {
   "cell_type": "code",
   "execution_count": null,
   "id": "4fd2125e",
   "metadata": {},
   "outputs": [],
   "source": [
    "if any(cur[1] < q[1] for q in que):\n",
    "    que.append(cur)\n",
    "# any()안에서 True가 있을 경우 실행 \n",
    "# -> que안에서 만약 cur보다 큰 놈이 있을 경우 cur을 append"
   ]
  },
  {
   "cell_type": "markdown",
   "id": "1edca6cd",
   "metadata": {},
   "source": [
    "Permutations"
   ]
  },
  {
   "cell_type": "code",
   "execution_count": null,
   "id": "4838883d",
   "metadata": {},
   "outputs": [
    {
     "data": {
      "text/plain": [
       "{0, 1, 10, 11, 101, 110}"
      ]
     },
     "execution_count": 25,
     "metadata": {},
     "output_type": "execute_result"
    }
   ],
   "source": [
    "# permutations(str, n) -> 문자 str로 길이가 n인 문자를 만들 수 있는 모든 조합\n",
    "from itertools import permutations\n",
    "\n",
    "numbers = '011'\n",
    "num = set()\n",
    "for n in range(1, len(numbers)+1):\n",
    "    for cb in permutations(numbers, n):\n",
    "        num.add(int(''.join(cb)))\n",
    "num # {0, 1, 10, 11, 101, 110}"
   ]
  },
  {
   "cell_type": "markdown",
   "id": "9dafa9e0",
   "metadata": {},
   "source": [
    "소수 찾기"
   ]
  },
  {
   "cell_type": "code",
   "execution_count": null,
   "id": "ef63ecbf",
   "metadata": {},
   "outputs": [],
   "source": [
    "# 소수 찾기\n",
    "def is_prime(n):\n",
    "    if n < 2:           # 2보다 작으면 False\n",
    "        return False\n",
    "    for i in range(2, int(n**0.5)+1): # 2부터 루트n까지 나눴을때 나눠지면 False\n",
    "        if n%i ==0:\n",
    "            return False\n",
    "    return True         # 다 안되면 소수 True"
   ]
  },
  {
   "cell_type": "markdown",
   "id": "492726b0",
   "metadata": {},
   "source": [
    "재귀함수"
   ]
  },
  {
   "cell_type": "code",
   "execution_count": null,
   "id": "df4642da",
   "metadata": {},
   "outputs": [],
   "source": [
    "# 재귀함수\n",
    "lst = set()\n",
    "def Combination(s1, s2):\n",
    "    if s1 != '' and is_prime(int(s1)):\n",
    "        lst.add(int(s1))\n",
    "    for i in range(len(s2)):\n",
    "        Combination(s1+s2[i], s2[:i]+s2[i+1:])"
   ]
  },
  {
   "cell_type": "markdown",
   "id": "20df1f8b",
   "metadata": {},
   "source": [
    "접두사 찾기 "
   ]
  },
  {
   "cell_type": "code",
   "execution_count": null,
   "id": "e74d2ace",
   "metadata": {},
   "outputs": [],
   "source": [
    "# Startswith\n",
    "lst = ['11','112','115','1154','119']\n",
    "lst.sort() # 문자열 정렬 - ['11', '112', '115', '1154', '119']\n",
    "lst[1].startswith(lst[0]) # True - '112'가 '11'로 시작하기 때문\n",
    "\n",
    "# 해시 - set()\n",
    "def solution(lst):\n",
    "    st = set(lst)\n",
    "    for n in lst:\n",
    "        for i in range(1,len(n)): # 문자를 앞에서 하나씩 잘라가며 똑같은 애가 있는지 확인\n",
    "            if n[:i] in st: # 본인까지 보면 False가 나와서 마지막 앞에서 자름 - [:i]\n",
    "                return False\n",
    "    return True"
   ]
  }
 ],
 "metadata": {
  "kernelspec": {
   "display_name": "lightfm-env",
   "language": "python",
   "name": "python3"
  },
  "language_info": {
   "codemirror_mode": {
    "name": "ipython",
    "version": 3
   },
   "file_extension": ".py",
   "mimetype": "text/x-python",
   "name": "python",
   "nbconvert_exporter": "python",
   "pygments_lexer": "ipython3",
   "version": "3.9.21"
  }
 },
 "nbformat": 4,
 "nbformat_minor": 5
}
