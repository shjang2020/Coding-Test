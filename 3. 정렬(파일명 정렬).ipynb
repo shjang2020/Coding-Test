{
 "cells": [
  {
   "cell_type": "markdown",
   "id": "227a727a",
   "metadata": {},
   "source": [
    "내 풀이"
   ]
  },
  {
   "cell_type": "code",
   "execution_count": null,
   "id": "6c98a83e",
   "metadata": {},
   "outputs": [],
   "source": [
    "import re\n",
    "\n",
    "def solution(files):\n",
    "    lst = []\n",
    "    for n, i in enumerate(files):\n",
    "        num = re.findall(r'\\d+',i)[0]\n",
    "        st = i.split(num)[0] # re.findall(r'[^\\d]+', i)[0]\n",
    "        lst.append([st.lower(), int(num), n])\n",
    "    lst = sorted(lst)\n",
    "    return [files[i[2]] for i in lst]"
   ]
  },
  {
   "cell_type": "markdown",
   "id": "6f7648b0",
   "metadata": {},
   "source": [
    "최적의 풀이"
   ]
  },
  {
   "cell_type": "code",
   "execution_count": null,
   "id": "a43234d6",
   "metadata": {},
   "outputs": [],
   "source": [
    "import re\n",
    "\n",
    "def solution(files):\n",
    "    a = sorted(files, key=lambda file : int(re.findall('\\d+', file)[0]))\n",
    "    b = sorted(a, key=lambda file : re.split('\\d+', file.lower())[0])\n",
    "    return b"
   ]
  }
 ],
 "metadata": {
  "language_info": {
   "name": "python"
  }
 },
 "nbformat": 4,
 "nbformat_minor": 5
}
