{
 "cells": [
  {
   "cell_type": "markdown",
   "id": "4ad36f5b",
   "metadata": {},
   "source": [
    "내 풀이"
   ]
  },
  {
   "cell_type": "code",
   "execution_count": null,
   "id": "da53d641",
   "metadata": {},
   "outputs": [],
   "source": []
  },
  {
   "cell_type": "markdown",
   "id": "3cae6f08",
   "metadata": {},
   "source": [
    "최적의 풀이"
   ]
  },
  {
   "cell_type": "code",
   "execution_count": null,
   "id": "6a45b09f",
   "metadata": {},
   "outputs": [],
   "source": []
  }
 ],
 "metadata": {
  "language_info": {
   "name": "python"
  }
 },
 "nbformat": 4,
 "nbformat_minor": 5
}
