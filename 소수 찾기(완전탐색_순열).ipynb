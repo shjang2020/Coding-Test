{
 "cells": [
  {
   "cell_type": "markdown",
   "id": "81e95776",
   "metadata": {},
   "source": [
    "나의 코드"
   ]
  },
  {
   "cell_type": "markdown",
   "id": "5e60459d",
   "metadata": {},
   "source": [
    "Permutation"
   ]
  },
  {
   "cell_type": "code",
   "execution_count": null,
   "id": "f17e00ab",
   "metadata": {},
   "outputs": [],
   "source": [
    "from itertools import permutations\n",
    "\n",
    "def is_prime(num):\n",
    "    if num < 2:\n",
    "        return False\n",
    "    for i in range(2, int(num**0.5)+1):\n",
    "        if num % i ==0:\n",
    "            return False\n",
    "    return True\n",
    "\n",
    "def solution(numbers):\n",
    "    lst = set()\n",
    "    \n",
    "    # 모든 자리수에 대해 순열 생성\n",
    "    for n in range(1, len(numbers)+1):\n",
    "        for i in permutations(numbers, n):\n",
    "            num = int(''.join(i))\n",
    "            if is_prime(num):\n",
    "                lst.add(num)\n",
    "                \n",
    "    return len(lst)"
   ]
  },
  {
   "cell_type": "markdown",
   "id": "daf6d293",
   "metadata": {},
   "source": [
    "재귀함수"
   ]
  },
  {
   "cell_type": "code",
   "execution_count": null,
   "id": "1d354150",
   "metadata": {},
   "outputs": [],
   "source": [
    "lst = set()\n",
    "# 소수 찾기\n",
    "def is_prime(number):\n",
    "    if number in (0,1):\n",
    "        return False\n",
    "    for i in range(2, int(number**0.5)+1):\n",
    "        if number % i ==0:\n",
    "            return False\n",
    "    return True\n",
    "\n",
    "# 조합 찾기\n",
    "def Combination(s1, s2):\n",
    "    if s1 != '' and is_prime(int(s1)):\n",
    "        lst.add(int(s1))\n",
    "    for i in range(len(s2)):\n",
    "        Combination(s1+s2[i], s2[:i]+s2[i+1:])\n",
    "            \n",
    "def solution(numbers):\n",
    "    Combination('', numbers)\n",
    "    return len(lst)"
   ]
  }
 ],
 "metadata": {
  "kernelspec": {
   "display_name": "lightfm-env",
   "language": "python",
   "name": "python3"
  },
  "language_info": {
   "codemirror_mode": {
    "name": "ipython",
    "version": 3
   },
   "file_extension": ".py",
   "mimetype": "text/x-python",
   "name": "python",
   "nbconvert_exporter": "python",
   "pygments_lexer": "ipython3",
   "version": "3.9.21"
  }
 },
 "nbformat": 4,
 "nbformat_minor": 5
}
