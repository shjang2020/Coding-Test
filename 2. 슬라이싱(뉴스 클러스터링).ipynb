{
 "cells": [
  {
   "cell_type": "markdown",
   "id": "b5b90a5c",
   "metadata": {},
   "source": [
    "나의 풀이"
   ]
  },
  {
   "cell_type": "code",
   "execution_count": null,
   "id": "ff0b185c",
   "metadata": {},
   "outputs": [],
   "source": [
    "def solution(str1, str2):\n",
    "    chk = []\n",
    "    hap = []\n",
    "    ko = []\n",
    "    for i in range(len(str1)-1):\n",
    "        s1 = str1[i:i+2].lower()\n",
    "        if s1.isalpha():\n",
    "            chk.append(s1)\n",
    "            hap.append(s1)\n",
    "    for i in range(len(str2)-1):\n",
    "        s2 = str2[i:i+2].lower()\n",
    "        if s2.isalpha():\n",
    "            if s2 in chk:\n",
    "                chk.remove(s2)\n",
    "                ko.append(s2)\n",
    "            else:\n",
    "                hap.append(s2)\n",
    "                \n",
    "    if len(ko)==0 and len(hap)==0:\n",
    "        return  65536\n",
    "    else:\n",
    "        return int(len(ko)/len(hap)*65536)"
   ]
  },
  {
   "cell_type": "markdown",
   "id": "4bd7ace1",
   "metadata": {},
   "source": [
    "GPT 풀이"
   ]
  },
  {
   "cell_type": "code",
   "execution_count": null,
   "id": "dbdb1bc3",
   "metadata": {},
   "outputs": [],
   "source": [
    "from collections import Counter\n",
    "\n",
    "def solution(str1, str2):\n",
    "    def make_multiset(s):\n",
    "        s = s.lower()\n",
    "        multiset = []\n",
    "        for i in range(len(s) - 1):\n",
    "            pair = s[i:i+2]\n",
    "            if pair.isalpha():\n",
    "                multiset.append(pair)\n",
    "        return multiset\n",
    "\n",
    "    s1 = make_multiset(str1)\n",
    "    s2 = make_multiset(str2)\n",
    "\n",
    "    c1 = Counter(s1)\n",
    "    c2 = Counter(s2)\n",
    "\n",
    "    inter = c1 & c2  # 교집합 (min)\n",
    "    union = c1 | c2  # 합집합 (max)\n",
    "\n",
    "    if not union:\n",
    "        return 65536\n",
    "\n",
    "    return int(sum(inter.values()) / sum(union.values()) * 65536)"
   ]
  }
 ],
 "metadata": {
  "kernelspec": {
   "display_name": "lightfm-env",
   "language": "python",
   "name": "python3"
  },
  "language_info": {
   "codemirror_mode": {
    "name": "ipython",
    "version": 3
   },
   "file_extension": ".py",
   "mimetype": "text/x-python",
   "name": "python",
   "nbconvert_exporter": "python",
   "pygments_lexer": "ipython3",
   "version": "3.9.21"
  }
 },
 "nbformat": 4,
 "nbformat_minor": 5
}
