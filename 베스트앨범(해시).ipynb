{
 "cells": [
  {
   "cell_type": "markdown",
   "id": "227a727a",
   "metadata": {},
   "source": [
    "내 풀이"
   ]
  },
  {
   "cell_type": "code",
   "execution_count": null,
   "id": "6c98a83e",
   "metadata": {},
   "outputs": [],
   "source": [
    "def solution(genres, plays):\n",
    "    gen = [[i, n] for n, i in enumerate(genres)]\n",
    "    gen_set = set(genres)\n",
    "    dic = {}\n",
    "\n",
    "    for n in gen_set:\n",
    "        dic[n] = 0\n",
    "        for i in gen:\n",
    "            if i[0] ==n:\n",
    "                dic[n] += plays[i[1]]\n",
    "\n",
    "    gen_ord = [k for k, i in sorted(dic.items(), key=lambda x: x[1], reverse=True)]\n",
    "\n",
    "    answer = []\n",
    "    for g in gen_ord:\n",
    "        lst = []\n",
    "        for i in range(len(gen)):\n",
    "            if gen[i][0] == g:\n",
    "                lst.append([plays[gen[i][1]], gen[i][1]])\n",
    "        lst = sorted(lst, key=lambda x: (-x[0], x[1]))\n",
    "        for l in lst[:2]:\n",
    "            answer.append(l[1])\n",
    "    return answer"
   ]
  },
  {
   "cell_type": "markdown",
   "id": "6f7648b0",
   "metadata": {},
   "source": [
    "나와 유사한 깔끔한 풀이"
   ]
  },
  {
   "cell_type": "code",
   "execution_count": null,
   "id": "a43234d6",
   "metadata": {},
   "outputs": [],
   "source": [
    "def solution(genres, plays):\n",
    "    answer = []\n",
    "\n",
    "    dic1 = {}\n",
    "    dic2 = {}\n",
    "\n",
    "    for i, (g, p) in enumerate(zip(genres, plays)):\n",
    "        if g not in dic1:\n",
    "            dic1[g] = [(i, p)]\n",
    "        else:\n",
    "            dic1[g].append((i, p))\n",
    "\n",
    "        if g not in dic2:\n",
    "            dic2[g] = p\n",
    "        else:\n",
    "            dic2[g] += p\n",
    "\n",
    "    for (k, v) in sorted(dic2.items(), key=lambda x:x[1], reverse=True):\n",
    "        for (i, p) in sorted(dic1[k], key=lambda x:x[1], reverse=True)[:2]:\n",
    "            answer.append(i)\n",
    "\n",
    "    return answer"
   ]
  },
  {
   "cell_type": "markdown",
   "id": "61f570be",
   "metadata": {},
   "source": [
    "최적의 풀이"
   ]
  },
  {
   "cell_type": "code",
   "execution_count": null,
   "id": "aedc2fc1",
   "metadata": {},
   "outputs": [],
   "source": [
    "from collections import defaultdict\n",
    "\n",
    "def solution(genres, plays):\n",
    "    genre_play = defaultdict(int)\n",
    "    genre_songs = defaultdict(list)\n",
    "\n",
    "    # 데이터 구성\n",
    "    for idx, (g, p) in enumerate(zip(genres, plays)):\n",
    "        genre_play[g] += p\n",
    "        genre_songs[g].append((p, idx))\n",
    "\n",
    "    # 장르 정렬 (총 재생수 내림차순)\n",
    "    sorted_genres = sorted(genre_play, key=lambda g: genre_play[g], reverse=True)\n",
    "\n",
    "    answer = []\n",
    "    for g in sorted_genres:\n",
    "        # 노래 정렬: 재생 수 내림차순, 고유번호 오름차순\n",
    "        sorted_songs = sorted(genre_songs[g], key=lambda x: (-x[0], x[1]))\n",
    "        answer.extend([idx for (_, idx) in sorted_songs[:2]])\n",
    "\n",
    "    return answer"
   ]
  }
 ],
 "metadata": {
  "language_info": {
   "name": "python"
  }
 },
 "nbformat": 4,
 "nbformat_minor": 5
}
