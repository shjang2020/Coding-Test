{
 "cells": [
  {
   "cell_type": "code",
   "execution_count": null,
   "metadata": {},
   "outputs": [],
   "source": [
    "def solution(friends, gifts):\n",
    "    n = len(friends)\n",
    "    f_i = {n : i for i, n in enumerate(friends)}\n",
    "    g_l = [[0]*n for _ in range(n)]\n",
    "    g_s = [0]*n\n",
    "    \n",
    "    for i in gifts:\n",
    "        i1, i2 = i.split()\n",
    "        i1_ind = f_i[i1]; i2_ind = f_i[i2]\n",
    "        g_s[i1_ind] += 1; g_s[i2_ind] -= 1\n",
    "        g_l[i1_ind][i2_ind] +=1\n",
    "        \n",
    "    answer = [0]*n\n",
    "    for i in range(n):\n",
    "        for j in range(i+1, n):\n",
    "            if g_l[i][j] > g_l[j][i]:\n",
    "                answer[i] +=1\n",
    "            elif g_l[i][j] < g_l[j][i]:\n",
    "                answer[j] +=1\n",
    "            else:\n",
    "                if g_s[i] > g_s[j]:\n",
    "                    answer[i] +=1\n",
    "                elif g_s[i] < g_s[j]:\n",
    "                    answer[j] +=1\n",
    "    return max(answer)"
   ]
  }
 ],
 "metadata": {
  "kernelspec": {
   "display_name": "base",
   "language": "python",
   "name": "python3"
  },
  "language_info": {
   "name": "python",
   "version": "3.12.3"
  }
 },
 "nbformat": 4,
 "nbformat_minor": 2
}
