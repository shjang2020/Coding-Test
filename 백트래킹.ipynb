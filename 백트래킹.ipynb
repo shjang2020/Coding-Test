{
 "cells": [
  {
   "cell_type": "markdown",
   "id": "90e14596",
   "metadata": {},
   "source": [
    "### 백트래킹"
   ]
  },
  {
   "cell_type": "markdown",
   "id": "a1d7f3f1",
   "metadata": {},
   "source": [
    "✅ 문제 2. [백트래킹] N개의 수로 만들 수 있는 모든 순열 (순열 생성)\n",
    "📌 문제 설명\n",
    "자연수 N이 주어졌을 때, 1부터 N까지의 수 중 중복 없이 M개를 골라 만들 수 있는 모든 순열을 구하세요.\n",
    "\n",
    "수는 오름차순으로 출력합니다.\n",
    "\n",
    "출력되는 순열은 사전 순으로 나와야 합니다."
   ]
  },
  {
   "cell_type": "code",
   "execution_count": 1,
   "id": "c4a04890",
   "metadata": {},
   "outputs": [],
   "source": [
    "N = 3\n",
    "M = 2"
   ]
  },
  {
   "cell_type": "code",
   "execution_count": 2,
   "id": "5d1ed682",
   "metadata": {},
   "outputs": [
    {
     "name": "stdout",
     "output_type": "stream",
     "text": [
      "1 2\n",
      "1 3\n",
      "2 1\n",
      "2 3\n",
      "3 1\n",
      "3 2\n"
     ]
    }
   ],
   "source": [
    "def backtrack(n, m):\n",
    "    path = []\n",
    "    visited = [False] * (n + 1)\n",
    "\n",
    "    def dfs():\n",
    "        if len(path) == m:\n",
    "            print(*path)\n",
    "            return\n",
    "        for i in range(1, n + 1):\n",
    "            if not visited[i]:\n",
    "                visited[i] = True\n",
    "                path.append(i)\n",
    "                dfs()\n",
    "                path.pop()\n",
    "                visited[i] = False\n",
    "\n",
    "    dfs()\n",
    "\n",
    "backtrack(N, M)"
   ]
  },
  {
   "cell_type": "markdown",
   "id": "bc81f438",
   "metadata": {},
   "source": [
    "📌 문제 설명\n",
    "N개의 카드 묶음이 있습니다. 각 카드 묶음에는 몇 장의 카드가 들어 있습니다.\n",
    "두 개의 카드 묶음을 선택해서 합친 뒤, 다시 카드 더미에 넣는 작업을 반복할 때,\n",
    "모든 카드가 하나의 묶음이 될 때까지의 총 비용의 최소값을 구하세요.\n",
    "\n",
    "카드를 합치는 비용 = 두 묶음의 카드 수의 합\n",
    "\n",
    "항상 가장 작은 카드 묶음 2개를 합치는 것이 최적의 전략"
   ]
  },
  {
   "cell_type": "code",
   "execution_count": null,
   "id": "ad787520",
   "metadata": {},
   "outputs": [],
   "source": [
    "import heapq\n",
    "\n",
    "def min_merge_cost(cards):\n",
    "    if len(cards) <= 1:\n",
    "        return 0\n",
    "\n",
    "    heapq.heapify(cards)  # 리스트를 힙 구조로 변환\n",
    "    total = 0\n",
    "\n",
    "    while len(cards) > 1:\n",
    "        a = heapq.heappop(cards)  # 가장 작은 카드 묶음\n",
    "        b = heapq.heappop(cards)  # 두 번째로 작은 카드 묶음\n",
    "        cost = a + b\n",
    "        total += cost\n",
    "        heapq.heappush(cards, cost)  # 합친 카드 묶음을 다시 넣음\n",
    "\n",
    "    return total"
   ]
  }
 ],
 "metadata": {
  "kernelspec": {
   "display_name": "lightfm-env",
   "language": "python",
   "name": "python3"
  },
  "language_info": {
   "codemirror_mode": {
    "name": "ipython",
    "version": 3
   },
   "file_extension": ".py",
   "mimetype": "text/x-python",
   "name": "python",
   "nbconvert_exporter": "python",
   "pygments_lexer": "ipython3",
   "version": "3.9.21"
  }
 },
 "nbformat": 4,
 "nbformat_minor": 5
}
